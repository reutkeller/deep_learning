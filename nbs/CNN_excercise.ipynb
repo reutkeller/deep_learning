{
 "cells": [
  {
   "cell_type": "code",
   "execution_count": 1,
   "metadata": {},
   "outputs": [],
   "source": [
    "#| default_exp cnn_excercise"
   ]
  },
  {
   "cell_type": "markdown",
   "metadata": {},
   "source": [
    "# CNN Excercise"
   ]
  },
  {
   "cell_type": "code",
   "execution_count": 2,
   "metadata": {},
   "outputs": [],
   "source": [
    "#|hide\n",
    "from nbdev.showdoc import *"
   ]
  },
  {
   "cell_type": "code",
   "execution_count": 3,
   "metadata": {},
   "outputs": [],
   "source": [
    "#|hide\n",
    "#|export\n",
    "import matplotlib.pyplot as plt\n",
    "\n",
    "import tensorflow_datasets as tfds"
   ]
  },
  {
   "cell_type": "markdown",
   "metadata": {},
   "source": [
    "Load the data"
   ]
  },
  {
   "cell_type": "code",
   "execution_count": 3,
   "metadata": {},
   "outputs": [],
   "source": [
    "# Load BigEarthNet dataset\n",
    "\n",
    "# Load a portion of the BigEarthNet dataset\n",
    "start_percentage = 0.0  # Start percentage of the dataset\n",
    "end_percentage = 0.2  # End percentage of the dataset\n",
    "num_examples = None  # Number of examples to load, None to load all examples in the slice\n",
    "\n",
    "# # Define the slice\n",
    "# slice_obj = slice(int(start_percentage * 590326), int(end_percentage * 590326))\n",
    "\n",
    "# Load the sliced dataset\n",
    "dataset, info = tfds.load('bigearthnet', split=f'train[:15%]', with_info=True)\n",
    "\n",
    "# dataset, info = tfds.load('bigearthnet', split='train', with_info=True)"
   ]
  },
  {
   "cell_type": "code",
   "execution_count": null,
   "metadata": {},
   "outputs": [],
   "source": []
  }
 ],
 "metadata": {
  "kernelspec": {
   "display_name": ".venv",
   "language": "python",
   "name": "python3"
  },
  "language_info": {
   "codemirror_mode": {
    "name": "ipython",
    "version": 3
   },
   "file_extension": ".py",
   "mimetype": "text/x-python",
   "name": "python",
   "nbconvert_exporter": "python",
   "pygments_lexer": "ipython3",
   "version": "3.11.0"
  }
 },
 "nbformat": 4,
 "nbformat_minor": 2
}
